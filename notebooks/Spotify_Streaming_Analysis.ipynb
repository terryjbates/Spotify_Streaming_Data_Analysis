{
 "cells": [
  {
   "cell_type": "code",
   "execution_count": 29,
   "id": "11b00e4f-9c41-4342-9ce3-6881bde076d3",
   "metadata": {},
   "outputs": [],
   "source": [
    "import sys\n",
    "import os\n",
    "import pandas as pd\n",
    "import numpy as np\n",
    "import json\n",
    "import re\n",
    "from pathlib import Path, PureWindowsPath, PurePosixPath, PurePath"
   ]
  },
  {
   "cell_type": "code",
   "execution_count": 21,
   "id": "9d154c15-d252-499b-9135-d8feba1f010c",
   "metadata": {},
   "outputs": [
    {
     "data": {
      "text/plain": [
       "'C:\\\\Users\\\\lover\\\\Documents\\\\Github\\\\Spotify_Streaming_Data_Analysis'"
      ]
     },
     "execution_count": 21,
     "metadata": {},
     "output_type": "execute_result"
    }
   ],
   "source": [
    "os.chdir('C:\\\\Users\\\\lover\\\\Documents\\\\Github\\\\Spotify_Streaming_Data_Analysis\\\\')\n",
    "os.getcwd()"
   ]
  },
  {
   "cell_type": "code",
   "execution_count": 22,
   "id": "8592322e-4592-44f0-aa00-3e6fd7c9e21f",
   "metadata": {},
   "outputs": [],
   "source": [
    "# Set data directory\n",
    "# DATA_DIR = r\"\\data\\text\\db_archive\"\n",
    "\n",
    "# Construct data directory path\n",
    "\n",
    "# Get current path\n",
    "cwd = PurePath(Path.cwd())\n",
    "\n",
    "# Construct path to archive location\n",
    "data_path = cwd / 'data' / 'spotify_data' / 'Spotify Extended Streaming History'"
   ]
  },
  {
   "cell_type": "code",
   "execution_count": 23,
   "id": "464e093f-2264-4fb0-bcee-8b82084bf4e4",
   "metadata": {},
   "outputs": [
    {
     "data": {
      "text/plain": [
       "'C:\\\\Users\\\\lover\\\\Documents\\\\Github\\\\Spotify_Streaming_Data_Analysis\\\\data\\\\spotify_data\\\\Spotify Extended Streaming History'"
      ]
     },
     "execution_count": 23,
     "metadata": {},
     "output_type": "execute_result"
    }
   ],
   "source": [
    "string_data_path = str(data_path)\n",
    "string_data_path"
   ]
  },
  {
   "cell_type": "code",
   "execution_count": 43,
   "id": "327d55bb-4af9-44ed-9a09-c2fcb6c5651f",
   "metadata": {},
   "outputs": [],
   "source": [
    "def get_json_files(directory):\n",
    "  \"\"\"\n",
    "  Returns a list of PurePath objects representing JSON files in the given directory.\n",
    "  \"\"\"\n",
    "  json_files = []\n",
    "  for filename in os.listdir(directory):\n",
    "    file_path = PurePath(directory, filename)\n",
    "    if file_path.is_file() and file_path.suffix == '.json':\n",
    "      json_files.append(file_path)\n",
    "  return json_files\n",
    "\n",
    "\n",
    "# Method 2: Using Path.iterdir() with PurePath\n",
    "def list_files_pathlib(path_str):\n",
    "    pure_path = PurePath(path_str)\n",
    "    path = Path(pure_path)\n",
    "    if not path.is_dir():\n",
    "        return \"The specified path is not a directory.\"\n",
    "    return [entry.name for entry in path.iterdir() if entry.is_file()]\n",
    "\n",
    "\n",
    "\n",
    "# Method 1: Using os.listdir() with PurePath\n",
    "def list_files_os(path_str):\n",
    "    pure_path = PurePath(path_str)\n",
    "    if not os.path.isdir(path_str):\n",
    "        return \"The specified path is not a directory.\"\n",
    "        all_files =  [f for f in os.listdir(pure_path) \n",
    "            if os.path.isfile(os.path.join(pure_path, f)) ]\n",
    "    return [f for f in os.listdir(pure_path) if os.path.isfile(os.path.join(pure_path, f))]\n"
   ]
  },
  {
   "cell_type": "markdown",
   "id": "e8a18bc3-2aa1-4993-bb81-99b711774b46",
   "metadata": {},
   "source": [
    "Let's first get a sense of what each record is made of. We will load one of the JSON files, sample a single record, and peruse the fields it contains."
   ]
  },
  {
   "cell_type": "code",
   "execution_count": 32,
   "id": "1c283c09-8aae-4ead-b37b-b62ae38fa80c",
   "metadata": {},
   "outputs": [
    {
     "data": {
      "text/plain": [
       "\u001b[1;31mSignature:\u001b[0m \u001b[0mlist\u001b[0m\u001b[1;33m.\u001b[0m\u001b[0mpop\u001b[0m\u001b[1;33m(\u001b[0m\u001b[0mself\u001b[0m\u001b[1;33m,\u001b[0m \u001b[0mindex\u001b[0m\u001b[1;33m=\u001b[0m\u001b[1;33m-\u001b[0m\u001b[1;36m1\u001b[0m\u001b[1;33m,\u001b[0m \u001b[1;33m/\u001b[0m\u001b[1;33m)\u001b[0m\u001b[1;33m\u001b[0m\u001b[1;33m\u001b[0m\u001b[0m\n",
       "\u001b[1;31mDocstring:\u001b[0m\n",
       "Remove and return item at index (default last).\n",
       "\n",
       "Raises IndexError if list is empty or index is out of range.\n",
       "\u001b[1;31mType:\u001b[0m      method_descriptor"
      ]
     },
     "metadata": {},
     "output_type": "display_data"
    }
   ],
   "source": [
    "list.pop?"
   ]
  },
  {
   "cell_type": "code",
   "execution_count": 48,
   "id": "d91e6737-65a1-4c5e-a080-d52485d6dee9",
   "metadata": {},
   "outputs": [],
   "source": [
    "# Obtain all the files in th \n",
    "all_files = list_files_os(data_path)"
   ]
  },
  {
   "cell_type": "code",
   "execution_count": 50,
   "id": "404b9c83-23e0-4df8-83d5-4955bfccfbd6",
   "metadata": {},
   "outputs": [
    {
     "data": {
      "text/plain": [
       "['Streaming_History_Audio_2014-2017_0.json',\n",
       " 'Streaming_History_Audio_2017-2018_1.json',\n",
       " 'Streaming_History_Audio_2018-2019_2.json',\n",
       " 'Streaming_History_Audio_2019-2020_4.json',\n",
       " 'Streaming_History_Audio_2019_3.json',\n",
       " 'Streaming_History_Audio_2020-2021_5.json',\n",
       " 'Streaming_History_Audio_2021-2022_9.json',\n",
       " 'Streaming_History_Audio_2021_6.json',\n",
       " 'Streaming_History_Audio_2021_7.json',\n",
       " 'Streaming_History_Audio_2021_8.json',\n",
       " 'Streaming_History_Audio_2022-2023_12.json',\n",
       " 'Streaming_History_Audio_2022_10.json',\n",
       " 'Streaming_History_Audio_2022_11.json',\n",
       " 'Streaming_History_Audio_2023-2024_14.json',\n",
       " 'Streaming_History_Audio_2023_13.json',\n",
       " 'Streaming_History_Audio_2024-2025_17.json',\n",
       " 'Streaming_History_Audio_2024_15.json',\n",
       " 'Streaming_History_Audio_2024_16.json']"
      ]
     },
     "execution_count": 50,
     "metadata": {},
     "output_type": "execute_result"
    }
   ],
   "source": [
    "# Extract only the audio JSON files we are interested in\n",
    "audio_files = all_files\n",
    "for file in audio_files:\n",
    "    # print(f\"File is {file}\")\n",
    "    if not re.match('.*Audio.*json', file):\n",
    "        audio_files.remove(file)\n",
    "\n",
    "# Echo the list of audio files\n",
    "audio_files"
   ]
  },
  {
   "cell_type": "code",
   "execution_count": 63,
   "id": "3c0065ae-a8d7-40a4-8efc-4cf3e2b5661b",
   "metadata": {},
   "outputs": [],
   "source": [
    "# Construct a path \n",
    "test_audio_file_path =  data_path / audio_files[0]\n",
    "\n",
    "# Open our test file with a context manager and read the data into a Python object\n",
    "with open(test_audio_file_path, 'r', encoding='utf-8', errors='ignore') as file:\n",
    "    json_data= json.load(file)"
   ]
  },
  {
   "cell_type": "code",
   "execution_count": 64,
   "id": "93cb8e47-7811-4bd0-91cb-877794a2ed80",
   "metadata": {},
   "outputs": [
    {
     "data": {
      "text/plain": [
       "{'ts': '2014-02-08T08:19:05Z',\n",
       " 'platform': 'WebPlayer (websocket RFC6455)',\n",
       " 'ms_played': 345730,\n",
       " 'conn_country': 'US',\n",
       " 'ip_addr': '108.233.253.176',\n",
       " 'master_metadata_track_name': 'Get Closer',\n",
       " 'master_metadata_album_artist_name': 'Ron Basejam',\n",
       " 'master_metadata_album_album_name': 'Trax 3lLascivious SummerlSelected by Eric Pajot',\n",
       " 'spotify_track_uri': 'spotify:track:4qD4HNcdFGihp5Mn8JTgTB',\n",
       " 'episode_name': None,\n",
       " 'episode_show_name': None,\n",
       " 'spotify_episode_uri': None,\n",
       " 'audiobook_title': None,\n",
       " 'audiobook_uri': None,\n",
       " 'audiobook_chapter_uri': None,\n",
       " 'audiobook_chapter_title': None,\n",
       " 'reason_start': 'clickrow',\n",
       " 'reason_end': 'unknown',\n",
       " 'shuffle': False,\n",
       " 'skipped': False,\n",
       " 'offline': False,\n",
       " 'offline_timestamp': None,\n",
       " 'incognito_mode': False}"
      ]
     },
     "execution_count": 64,
     "metadata": {},
     "output_type": "execute_result"
    }
   ],
   "source": [
    "json_sample = json_data[0]\n",
    "json_sample"
   ]
  },
  {
   "cell_type": "code",
   "execution_count": null,
   "id": "87fa1564-2286-41a8-8b99-500da2a3864b",
   "metadata": {},
   "outputs": [],
   "source": []
  }
 ],
 "metadata": {
  "kernelspec": {
   "display_name": "Python 3 (ipykernel)",
   "language": "python",
   "name": "python3"
  },
  "language_info": {
   "codemirror_mode": {
    "name": "ipython",
    "version": 3
   },
   "file_extension": ".py",
   "mimetype": "text/x-python",
   "name": "python",
   "nbconvert_exporter": "python",
   "pygments_lexer": "ipython3",
   "version": "3.9.19"
  }
 },
 "nbformat": 4,
 "nbformat_minor": 5
}
